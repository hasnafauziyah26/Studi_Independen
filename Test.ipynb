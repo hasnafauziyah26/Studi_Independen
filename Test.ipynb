{
  "nbformat": 4,
  "nbformat_minor": 0,
  "metadata": {
    "colab": {
      "provenance": [],
      "authorship_tag": "ABX9TyPQOdCGN6TYz1JhdSlgC0Zk",
      "include_colab_link": true
    },
    "kernelspec": {
      "name": "python3",
      "display_name": "Python 3"
    },
    "language_info": {
      "name": "python"
    }
  },
  "cells": [
    {
      "cell_type": "markdown",
      "metadata": {
        "id": "view-in-github",
        "colab_type": "text"
      },
      "source": [
        "<a href=\"https://colab.research.google.com/github/hasnafauziyah26/Studi_Independen/blob/main/Test.ipynb\" target=\"_parent\"><img src=\"https://colab.research.google.com/assets/colab-badge.svg\" alt=\"Open In Colab\"/></a>"
      ]
    },
    {
      "cell_type": "code",
      "execution_count": null,
      "metadata": {
        "colab": {
          "base_uri": "https://localhost:8080/"
        },
        "id": "Vft1tn6YVUjx",
        "outputId": "3eef0971-eba7-4d2b-ea34-e6d299d3b2da"
      },
      "outputs": [
        {
          "output_type": "stream",
          "name": "stdout",
          "text": [
            "1a\n",
            "2b\n",
            "3c\n",
            "4d\n"
          ]
        }
      ],
      "source": [
        "angka = [1,2,3,4]\n",
        "huruf = [\"a\",\"b\",\"c\",\"d\"]\n",
        "for x in range(len(angka)):\n",
        "  for y in range(len(huruf)):\n",
        "    if x==y:\n",
        "      print(f\"{angka[x]}{huruf[y]}\")"
      ]
    },
    {
      "cell_type": "code",
      "source": [
        "def func(a):\n",
        "  a=a+2\n",
        "  a=a*2\n",
        "  return a\n",
        "\n",
        "print(func(2))"
      ],
      "metadata": {
        "colab": {
          "base_uri": "https://localhost:8080/"
        },
        "id": "VG_hAwRUTPdY",
        "outputId": "dd203cae-da64-4672-bf2a-7c0d60773d58"
      },
      "execution_count": null,
      "outputs": [
        {
          "output_type": "stream",
          "name": "stdout",
          "text": [
            "8\n"
          ]
        }
      ]
    },
    {
      "cell_type": "code",
      "source": [
        "3*1**3"
      ],
      "metadata": {
        "colab": {
          "base_uri": "https://localhost:8080/"
        },
        "id": "dEcZsfjEULJ8",
        "outputId": "819a7482-9eba-4001-91f3-76d719712eb6"
      },
      "execution_count": null,
      "outputs": [
        {
          "output_type": "execute_result",
          "data": {
            "text/plain": [
              "3"
            ]
          },
          "metadata": {},
          "execution_count": 5
        }
      ]
    },
    {
      "cell_type": "code",
      "source": [],
      "metadata": {
        "id": "QIwlxPsotnPM"
      },
      "execution_count": null,
      "outputs": []
    },
    {
      "cell_type": "code",
      "source": [
        "print('{0:.2}'.format(1.0/3))"
      ],
      "metadata": {
        "colab": {
          "base_uri": "https://localhost:8080/"
        },
        "id": "k6vhQK9JUmwW",
        "outputId": "bf8fdf94-0da1-44cd-d23e-02064091bac8"
      },
      "execution_count": null,
      "outputs": [
        {
          "output_type": "stream",
          "name": "stdout",
          "text": [
            "0.33\n"
          ]
        }
      ]
    },
    {
      "cell_type": "code",
      "source": [
        "a={i:i*i for i in range(6)}\n",
        "print(a)"
      ],
      "metadata": {
        "colab": {
          "base_uri": "https://localhost:8080/"
        },
        "id": "wymCZ5YhdkTF",
        "outputId": "72bff5c2-df63-4dcc-98b8-4a4092ce05eb"
      },
      "execution_count": null,
      "outputs": [
        {
          "output_type": "stream",
          "name": "stdout",
          "text": [
            "{0: 0, 1: 1, 2: 4, 3: 9, 4: 16, 5: 25}\n"
          ]
        }
      ]
    },
    {
      "cell_type": "code",
      "source": [
        "def mean(daftar):\n",
        "  hasil=0\n",
        "  for i in range(len(daftar)):\n",
        "    hasil = hasil+daftar[i]\n",
        "  rerata= hasil/len(daftar)\n",
        "  return rerata\n",
        "\n",
        "x = [1,2,3,5]\n",
        "mean(x)"
      ],
      "metadata": {
        "colab": {
          "base_uri": "https://localhost:8080/"
        },
        "id": "ELRH5CjdfpJl",
        "outputId": "587edbb9-0e03-4ab0-e580-6431426804c2"
      },
      "execution_count": null,
      "outputs": [
        {
          "output_type": "execute_result",
          "data": {
            "text/plain": [
              "2.75"
            ]
          },
          "metadata": {},
          "execution_count": 28
        }
      ]
    }
  ]
}